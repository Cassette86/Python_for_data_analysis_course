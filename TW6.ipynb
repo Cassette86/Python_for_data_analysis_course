{
 "cells": [
  {
   "cell_type": "markdown",
   "metadata": {},
   "source": [
    "## Regular expression operations\n",
    "\n",
    "A regular expression is a special sequence of characters that helps you match or find other strings or sets of strings, using a specialized syntax held in a pattern. Python has a built-in package called re, which can be used to work with Regular Expres-sions.\n",
    "\n",
    "You can find details here: https://docs.python.org/3/library/re.html#regular-expression-syntax\n"
   ]
  },
  {
   "cell_type": "code",
   "execution_count": 1,
   "metadata": {},
   "outputs": [],
   "source": [
    "import re \n",
    "import requests\n",
    "from bs4 import BeautifulSoup\n",
    "import pandas as pd"
   ]
  },
  {
   "cell_type": "markdown",
   "metadata": {},
   "source": [
    "#### 1. Write a regexp to extract the score, Cristiano’s age, number of goals and the number of selections from the following text:"
   ]
  },
  {
   "cell_type": "code",
   "execution_count": 2,
   "metadata": {},
   "outputs": [
    {
     "data": {
      "text/plain": [
       "('3-0', '36 ans', '112', '181')"
      ]
     },
     "execution_count": 2,
     "metadata": {},
     "output_type": "execute_result"
    }
   ],
   "source": [
    "txt = \"Buteur face au Qatar (3-0), samedi en amical, Cristiano Ronaldo (36 ans) a fait tomber un nouveau record. En effet, l'attaquant de Manchester United, meilleur buteur de l'histoire des sélections (112 buts), est devenu le footballeur européen le plus capé avec son équipe nationale. Il compte désormais 181 matchs avec la formation lusitanienne, soit un de plus que Sergio Ramos avec l'Espagne. Le Red Devil n'est plus qu'à cinq longueurs de Bader Ahmed al-Mutawa (Koweït), recordman absolu à l'échelle mondiale.\"\n",
    "\n",
    "score = re.search(r'(\\d-\\d)', txt).group(0)\n",
    "age = re.search(r'(\\d{1,3}) (ans)', txt).group(0)\n",
    "nb_buts = re.search(r'(\\d+) buts', txt).group(1)\n",
    "nb1_buts = re.search(r'(\\d+) (buts)', txt).group(2)\n",
    "nb_selections = re.findall(r'Il compte désormais (\\d+) matchs avec la formation lusitanienne', txt)[0]\n",
    "score , age, nb_buts,nb_selections"
   ]
  },
  {
   "cell_type": "markdown",
   "metadata": {},
   "source": [
    "#### 2. Write a regexp to get prices from the following text:"
   ]
  },
  {
   "cell_type": "code",
   "execution_count": 3,
   "metadata": {},
   "outputs": [
    {
     "name": "stdout",
     "output_type": "stream",
     "text": [
      "['230', '900']\n"
     ]
    }
   ],
   "source": [
    "txt = \"Vous cherchez un nouvel ordinateur portable performant, fiable et en réduction ? Sur Rakuten, l’ordinateur Apple MacBook Air 2020 est en promotion, avec une remise de près de 230 euros pour un tarif final qui chute sous les 900 euros grâce à la plateforme marchande.\"\n",
    "\n",
    "prices = re.findall(r'(\\d+) euros', txt)\n",
    "\n",
    "print(prices)"
   ]
  },
  {
   "cell_type": "markdown",
   "metadata": {},
   "source": [
    "#### 3. Write a regexp to get reduction values, along with promo code:"
   ]
  },
  {
   "cell_type": "code",
   "execution_count": 4,
   "metadata": {},
   "outputs": [
    {
     "name": "stdout",
     "output_type": "stream",
     "text": [
      "40% with PRINTEMPS\n",
      "40% with CARENAGE40\n",
      "50% with INJECTION50\n"
     ]
    }
   ],
   "source": [
    "txt = \"\"\"\n",
    "- 40% sur tous les réservoirs d'essence et collecteurs d'échappement ( achats internet uniquement ) avec le code promo: PRINTEMPS\n",
    "\n",
    "- 40% sur tous les carénages plastique  ( achats internet uniquement ) avec le code promo: CARENAGE40\n",
    "\n",
    "- 50% sur toutes les rampes d'injection ( achats internet uniquement ) avec le code promo: INJECTION50\n",
    "\"\"\"\n",
    "\n",
    "pattern_pourcentage = r\"\\d+\\s*%\"\n",
    "pattern_code = r\"promo:\\s+(\\w+)\"\n",
    "pourcentages = re.findall(pattern_pourcentage,txt)\n",
    "codes = re.findall(pattern_code,txt)\n",
    "\n",
    "for pourcentage, code in zip(pourcentages, codes):\n",
    "    print(f\"{pourcentage} with {code}\")\n"
   ]
  },
  {
   "cell_type": "markdown",
   "metadata": {},
   "source": [
    "# Web scrapping\n",
    "\n",
    "# Parsing the HTML with BeautifulSoup\n",
    "\n",
    "BeautifulSoup is a Python library for parsing HTML and XML documents. It is often used for web scraping. BeautifulSoup transforms a complex HTML document into a complex tree of Python objects, such as tag, navigable string, or comment."
   ]
  },
  {
   "cell_type": "markdown",
   "metadata": {},
   "source": [
    "### Téléthon use case (read, store, visualize)\n",
    "https://www.afm-telethon.fr/fr/le-telethon/le-telethon-c-est-quoi/l-histoire-du-telethon/les-resultats-du-telethon"
   ]
  },
  {
   "cell_type": "code",
   "execution_count": 5,
   "metadata": {},
   "outputs": [],
   "source": [
    "url        = \"https://www.afm-telethon.fr/fr/le-telethon/le-telethon-c-est-quoi/l-histoire-du-telethon/les-resultats-du-telethon\"\n",
    "requesting = requests.get(url)\n",
    "soup       = BeautifulSoup(requesting.content, \"html.parser\")\n"
   ]
  },
  {
   "cell_type": "code",
   "execution_count": 7,
   "metadata": {},
   "outputs": [],
   "source": [
    "with open('Datasets/tst.html', 'w') as f:\n",
    "    f.write(str(soup))"
   ]
  },
  {
   "cell_type": "markdown",
   "metadata": {},
   "source": [
    "## Let's look for some information in the page"
   ]
  },
  {
   "cell_type": "markdown",
   "metadata": {},
   "source": [
    "#### 1. In 2006, the counter reached its highest level. Extract this information from the webpage (a sentence in the page)."
   ]
  },
  {
   "cell_type": "code",
   "execution_count": 8,
   "metadata": {},
   "outputs": [
    {
     "data": {
      "text/plain": [
       "\"C'est en 2006 que le compteur a atteint son niveau le plus haut, avec 106 696 532 €.\""
      ]
     },
     "execution_count": 8,
     "metadata": {},
     "output_type": "execute_result"
    }
   ],
   "source": [
    "# Using css selector\n",
    "\n",
    "d = soup.select('#les-montants-collectes-pour-le-telethon-depuis-1987-5959 > div > p:nth-child(5)')[0].get_text()\n",
    "d.strip()"
   ]
  },
  {
   "cell_type": "code",
   "execution_count": 9,
   "metadata": {},
   "outputs": [
    {
     "name": "stdout",
     "output_type": "stream",
     "text": [
      "C'est en 2006 que le compteur a atteint son niveau le plus haut, avec 106 696 532 €. \n"
     ]
    }
   ],
   "source": [
    "# Using tags \n",
    "\n",
    "target_sentence = None\n",
    "\n",
    "for paragraph in soup.find_all('p'):\n",
    "    if \"a atteint son niveau le plus haut\" in paragraph.get_text():\n",
    "        target_sentence = paragraph.get_text()\n",
    "        break\n",
    "\n",
    "\n",
    "print(target_sentence)"
   ]
  },
  {
   "cell_type": "markdown",
   "metadata": {},
   "source": [
    "#### 2. Retrieve the publication date from the webpage, using the CSS classes."
   ]
  },
  {
   "cell_type": "code",
   "execution_count": 10,
   "metadata": {},
   "outputs": [
    {
     "name": "stdout",
     "output_type": "stream",
     "text": [
      "\n",
      "                  Publié le 09/06/2022, mis à jour le 19/06/2023\n"
     ]
    }
   ],
   "source": [
    "date = soup.find(\"div\",{\"class\":\"date\"}).get_text()\n",
    "print(date)"
   ]
  },
  {
   "cell_type": "markdown",
   "metadata": {},
   "source": [
    "#### 3. Find the number of tables defined in the soup. "
   ]
  },
  {
   "cell_type": "code",
   "execution_count": 11,
   "metadata": {},
   "outputs": [
    {
     "data": {
      "text/plain": [
       "1"
      ]
     },
     "execution_count": 11,
     "metadata": {},
     "output_type": "execute_result"
    }
   ],
   "source": [
    "tables = soup.find_all(\"table\")\n",
    "\n",
    "num_tab = len(tables)\n",
    "\n",
    "num_tab"
   ]
  },
  {
   "cell_type": "markdown",
   "metadata": {},
   "source": [
    "#### 3. Retrieve the items from this table. Create a python dataframe representing this table (do not forget to include the name of the columns as defined in the webpage)."
   ]
  },
  {
   "cell_type": "code",
   "execution_count": 12,
   "metadata": {},
   "outputs": [
    {
     "data": {
      "text/html": [
       "<div>\n",
       "<style scoped>\n",
       "    .dataframe tbody tr th:only-of-type {\n",
       "        vertical-align: middle;\n",
       "    }\n",
       "\n",
       "    .dataframe tbody tr th {\n",
       "        vertical-align: top;\n",
       "    }\n",
       "\n",
       "    .dataframe thead th {\n",
       "        text-align: right;\n",
       "    }\n",
       "</style>\n",
       "<table border=\"1\" class=\"dataframe\">\n",
       "  <thead>\n",
       "    <tr style=\"text-align: right;\">\n",
       "      <th></th>\n",
       "      <th>Année</th>\n",
       "      <th>Montant collecté</th>\n",
       "    </tr>\n",
       "  </thead>\n",
       "  <tbody>\n",
       "    <tr>\n",
       "      <th>0</th>\n",
       "      <td>1987</td>\n",
       "      <td>29 650 000 €</td>\n",
       "    </tr>\n",
       "    <tr>\n",
       "      <th>1</th>\n",
       "      <td>1988</td>\n",
       "      <td>28 490 000 €</td>\n",
       "    </tr>\n",
       "    <tr>\n",
       "      <th>2</th>\n",
       "      <td>1989</td>\n",
       "      <td>40 930 000 €</td>\n",
       "    </tr>\n",
       "    <tr>\n",
       "      <th>3</th>\n",
       "      <td>1990</td>\n",
       "      <td>46 510 000 €</td>\n",
       "    </tr>\n",
       "    <tr>\n",
       "      <th>4</th>\n",
       "      <td>1991</td>\n",
       "      <td>38 650 000 €</td>\n",
       "    </tr>\n",
       "  </tbody>\n",
       "</table>\n",
       "</div>"
      ],
      "text/plain": [
       "   Année Montant collecté\n",
       "0   1987     29 650 000 €\n",
       "1   1988     28 490 000 €\n",
       "2   1989     40 930 000 €\n",
       "3   1990     46 510 000 €\n",
       "4   1991     38 650 000 €"
      ]
     },
     "execution_count": 12,
     "metadata": {},
     "output_type": "execute_result"
    }
   ],
   "source": [
    "table = soup.find_all('table')[0]\n",
    "df = pd.read_html(url)[0]\n",
    "df.head()"
   ]
  },
  {
   "cell_type": "markdown",
   "metadata": {},
   "source": [
    "#### 4. Clean up columns and their types \n",
    "(it's up to you to propose how, why and what to do)"
   ]
  },
  {
   "cell_type": "code",
   "execution_count": 13,
   "metadata": {},
   "outputs": [
    {
     "data": {
      "text/html": [
       "<div>\n",
       "<style scoped>\n",
       "    .dataframe tbody tr th:only-of-type {\n",
       "        vertical-align: middle;\n",
       "    }\n",
       "\n",
       "    .dataframe tbody tr th {\n",
       "        vertical-align: top;\n",
       "    }\n",
       "\n",
       "    .dataframe thead th {\n",
       "        text-align: right;\n",
       "    }\n",
       "</style>\n",
       "<table border=\"1\" class=\"dataframe\">\n",
       "  <thead>\n",
       "    <tr style=\"text-align: right;\">\n",
       "      <th></th>\n",
       "      <th>Année</th>\n",
       "      <th>Montant collecté</th>\n",
       "    </tr>\n",
       "  </thead>\n",
       "  <tbody>\n",
       "    <tr>\n",
       "      <th>0</th>\n",
       "      <td>1987</td>\n",
       "      <td>29.65</td>\n",
       "    </tr>\n",
       "    <tr>\n",
       "      <th>1</th>\n",
       "      <td>1988</td>\n",
       "      <td>28.49</td>\n",
       "    </tr>\n",
       "    <tr>\n",
       "      <th>2</th>\n",
       "      <td>1989</td>\n",
       "      <td>40.93</td>\n",
       "    </tr>\n",
       "    <tr>\n",
       "      <th>3</th>\n",
       "      <td>1990</td>\n",
       "      <td>46.51</td>\n",
       "    </tr>\n",
       "    <tr>\n",
       "      <th>4</th>\n",
       "      <td>1991</td>\n",
       "      <td>38.65</td>\n",
       "    </tr>\n",
       "  </tbody>\n",
       "</table>\n",
       "</div>"
      ],
      "text/plain": [
       "   Année  Montant collecté\n",
       "0   1987             29.65\n",
       "1   1988             28.49\n",
       "2   1989             40.93\n",
       "3   1990             46.51\n",
       "4   1991             38.65"
      ]
     },
     "execution_count": 13,
     "metadata": {},
     "output_type": "execute_result"
    }
   ],
   "source": [
    "df['Montant collecté'] = df['Montant collecté'].str.replace(' €', '').str.replace(' ', '', regex=True).astype(int)\n",
    "df['Montant collecté'] = df['Montant collecté']/1000000\n",
    "df['Montant collecté'] = round(df['Montant collecté'],2)\n",
    "df.head()"
   ]
  },
  {
   "cell_type": "markdown",
   "metadata": {},
   "source": [
    "#### 5. Retrieve the date when the most amount was collected \n",
    "\n",
    "(we already scrapped the info before, here we want the info with the table)"
   ]
  },
  {
   "cell_type": "code",
   "execution_count": 14,
   "metadata": {},
   "outputs": [
    {
     "data": {
      "text/plain": [
       "2006"
      ]
     },
     "execution_count": 14,
     "metadata": {},
     "output_type": "execute_result"
    }
   ],
   "source": [
    "maximum = df['Montant collecté'].max()\n",
    "\n",
    "row = df[df['Montant collecté'] == maximum]\n",
    "\n",
    "val = row['Année'].values[0]\n",
    "\n",
    "val"
   ]
  },
  {
   "cell_type": "markdown",
   "metadata": {},
   "source": [
    "#### 6. Visualize the evolution of the amount collected per year.\n",
    "#### Mark the maximum and minimum of the evolution with respectively red and green colors."
   ]
  },
  {
   "cell_type": "code",
   "execution_count": 15,
   "id": "52619dd5",
   "metadata": {},
   "outputs": [
    {
     "data": {
      "image/png": "[encoded data removed]",
      "text/plain": [
       "<Figure size 1500x700 with 1 Axes>"
      ]
     },
     "metadata": {},
     "output_type": "display_data"
    }
   ],
   "source": [
    "import matplotlib.pyplot as plt\n",
    "\n",
    "plt.figure(figsize=(15, 7))\n",
    "\n",
    "plt.plot(df['Année'], df['Montant collecté'], 'bo--', markersize=4, linewidth=1)\n",
    "plt.scatter(df[df['Montant collecté'] == df['Montant collecté'].min()]['Année'].values[0],df['Montant collecté'].min(),color='red',marker='v',s=100,zorder=1)\n",
    "plt.scatter(df[df['Montant collecté'] == df['Montant collecté'].max()]['Année'].values[0],df['Montant collecté'].max(),color='green',marker='^',s=100,zorder=3)\n",
    "plt.grid(True)\n",
    "\n",
    "plt.legend(['Montant (M)','Valeur max','Valeur min'])\n",
    "plt.title('Montant collecté par année')\n",
    "plt.show()"
   ]
  },
  {
   "cell_type": "markdown",
   "metadata": {},
   "source": [
    "## 7. Bonus question: We expect the graph bellow:"
   ]
  },
  {
   "cell_type": "code",
   "execution_count": 16,
   "id": "04643556",
   "metadata": {},
   "outputs": [
    {
     "data": {
      "image/png": "[encoded data removed]",
      "text/plain": [
       "<Figure size 1600x1000 with 1 Axes>"
      ]
     },
     "metadata": {},
     "output_type": "display_data"
    }
   ],
   "source": [
    "couleurs = ['cornflowerblue', 'lavender'] * (len(df) // 2)\n",
    "\n",
    "plt.figure(figsize=(16,10))\n",
    "plt.bar(df['Année'], df['Montant collecté'], color=couleurs, label='Montant collecté')\n",
    "barres = plt.bar(df['Année'], df['Montant collecté'], color=couleurs, label='Montant collecté')\n",
    "\n",
    "for barre in barres:\n",
    "    hauteur = barre.get_height()\n",
    "    plt.text(barre.get_x() + barre.get_width() / 2, hauteur/2, round(hauteur,2), ha='center', va='bottom', fontsize=10, color='white',rotation = 90)\n",
    "\n",
    "plt.xticks(df['Année'], rotation=90, ha='right')\n",
    "plt.suptitle('Prix investi dans le Téléthon',fontsize = 12)\n",
    "plt.title('En France depuis 1987')\n",
    "\n",
    "plt.xlabel(\"Années\")\n",
    "plt.ylabel(\"Montant collecté\")\n",
    "\n",
    "plt.show()"
   ]
  },
  {
   "cell_type": "markdown",
   "metadata": {},
   "source": [
    "## Use case 2: https://www.infoclimat.fr/observations-meteo/archives/7/septembre/2019/paris-montsouris/07156.html"
   ]
  },
  {
   "cell_type": "code",
   "execution_count": 17,
   "metadata": {},
   "outputs": [],
   "source": [
    "url   = \"https://www.infoclimat.fr/observations-meteo/archives/7/septembre/2019/paris-montsouris/07156.html\"\n",
    "page  = requests.get(url )\n",
    "html  = page.text\n",
    "soup  = BeautifulSoup(html)"
   ]
  },
  {
   "cell_type": "markdown",
   "metadata": {},
   "source": [
    "#### Convert the table of this site into a pandas dataframe\n",
    "\n",
    "You must include the names of the columns and the names of the rows (the hours) as an index "
   ]
  },
  {
   "cell_type": "markdown",
   "metadata": {},
   "source": [
    "### To help you: Define a function that allows you to retrieve the value of row i and column j of the table"
   ]
  },
  {
   "cell_type": "code",
   "execution_count": 18,
   "metadata": {},
   "outputs": [
    {
     "name": "stdout",
     "output_type": "stream",
     "text": [
      "4\n"
     ]
    }
   ],
   "source": [
    "number_of_tables_bis = len(soup.find_all('table'))\n",
    "print(number_of_tables_bis)"
   ]
  },
  {
   "cell_type": "code",
   "execution_count": 19,
   "metadata": {},
   "outputs": [
    {
     "data": {
      "text/html": [
       "<div>\n",
       "<style scoped>\n",
       "    .dataframe tbody tr th:only-of-type {\n",
       "        vertical-align: middle;\n",
       "    }\n",
       "\n",
       "    .dataframe tbody tr th {\n",
       "        vertical-align: top;\n",
       "    }\n",
       "\n",
       "    .dataframe thead th {\n",
       "        text-align: right;\n",
       "    }\n",
       "</style>\n",
       "<table border=\"1\" class=\"dataframe\">\n",
       "  <thead>\n",
       "    <tr style=\"text-align: right;\">\n",
       "      <th></th>\n",
       "      <th>Heure locale</th>\n",
       "      <th>Unnamed: 1</th>\n",
       "      <th>Température</th>\n",
       "      <th>Pluie</th>\n",
       "      <th>Vent</th>\n",
       "      <th>Humidité</th>\n",
       "      <th>Bio-météo</th>\n",
       "      <th>Pt. de rosée</th>\n",
       "      <th>Pression</th>\n",
       "      <th>Visibilité</th>\n",
       "    </tr>\n",
       "  </thead>\n",
       "  <tbody>\n",
       "    <tr>\n",
       "      <th>0</th>\n",
       "      <td>01h</td>\n",
       "      <td>add_circle_outline</td>\n",
       "      <td>13.9 °C 13.9 → 14.3</td>\n",
       "      <td>0 mm/1h</td>\n",
       "      <td>14 km/h raf.32.4</td>\n",
       "      <td>76%</td>\n",
       "      <td>NaN</td>\n",
       "      <td>9.7 °C</td>\n",
       "      <td>1023hPa</td>\n",
       "      <td>20 km</td>\n",
       "    </tr>\n",
       "    <tr>\n",
       "      <th>1</th>\n",
       "      <td>00h</td>\n",
       "      <td>add_circle_outline</td>\n",
       "      <td>14.3 °C 14.3 → 14.9</td>\n",
       "      <td>0 mm/1h</td>\n",
       "      <td>18 km/h raf.37.8</td>\n",
       "      <td>73%</td>\n",
       "      <td>NaN</td>\n",
       "      <td>9.5 °C</td>\n",
       "      <td>1023.2hPa</td>\n",
       "      <td>20 km</td>\n",
       "    </tr>\n",
       "    <tr>\n",
       "      <th>2</th>\n",
       "      <td>23h</td>\n",
       "      <td>add_circle_outline</td>\n",
       "      <td>14.9 °C 14.7 → 14.9</td>\n",
       "      <td>0 mm/1h</td>\n",
       "      <td>14 km/h raf.39.6</td>\n",
       "      <td>69%</td>\n",
       "      <td>NaN</td>\n",
       "      <td>9.3 °C</td>\n",
       "      <td>1023.0hPa</td>\n",
       "      <td>20 km</td>\n",
       "    </tr>\n",
       "    <tr>\n",
       "      <th>3</th>\n",
       "      <td>22h</td>\n",
       "      <td>add_circle_outline</td>\n",
       "      <td>14.8 °C 14.8 → 15.4</td>\n",
       "      <td>0 mm/1h</td>\n",
       "      <td>18 km/h raf.34.2</td>\n",
       "      <td>67%</td>\n",
       "      <td>NaN</td>\n",
       "      <td>8.7 °C</td>\n",
       "      <td>1022.8hPa</td>\n",
       "      <td>20 km</td>\n",
       "    </tr>\n",
       "    <tr>\n",
       "      <th>4</th>\n",
       "      <td>21h</td>\n",
       "      <td>add_circle_outline</td>\n",
       "      <td>15.4 °C 15.4 → 16.8</td>\n",
       "      <td>0 mm/1h</td>\n",
       "      <td>14 km/h raf.45.7</td>\n",
       "      <td>62%</td>\n",
       "      <td>NaN</td>\n",
       "      <td>8.2 °C</td>\n",
       "      <td>1022.2hPa</td>\n",
       "      <td>20 km</td>\n",
       "    </tr>\n",
       "  </tbody>\n",
       "</table>\n",
       "</div>"
      ],
      "text/plain": [
       "  Heure locale          Unnamed: 1          Température    Pluie  \\\n",
       "0          01h  add_circle_outline  13.9 °C 13.9 → 14.3  0 mm/1h   \n",
       "1          00h  add_circle_outline  14.3 °C 14.3 → 14.9  0 mm/1h   \n",
       "2          23h  add_circle_outline  14.9 °C 14.7 → 14.9  0 mm/1h   \n",
       "3          22h  add_circle_outline  14.8 °C 14.8 → 15.4  0 mm/1h   \n",
       "4          21h  add_circle_outline  15.4 °C 15.4 → 16.8  0 mm/1h   \n",
       "\n",
       "               Vent Humidité  Bio-météo Pt. de rosée   Pression Visibilité  \n",
       "0  14 km/h raf.32.4      76%        NaN       9.7 °C    1023hPa      20 km  \n",
       "1  18 km/h raf.37.8      73%        NaN       9.5 °C  1023.2hPa      20 km  \n",
       "2  14 km/h raf.39.6      69%        NaN       9.3 °C  1023.0hPa      20 km  \n",
       "3  18 km/h raf.34.2      67%        NaN       8.7 °C  1022.8hPa      20 km  \n",
       "4  14 km/h raf.45.7      62%        NaN       8.2 °C  1022.2hPa      20 km  "
      ]
     },
     "execution_count": 19,
     "metadata": {},
     "output_type": "execute_result"
    }
   ],
   "source": [
    "table = soup.find_all('table')\n",
    "df2 = pd.read_html(str(table))\n",
    "df2_2 = df2[1]\n",
    "df2_2.head()"
   ]
  }
 ],
 "metadata": {
  "kernelspec": {
   "display_name": "Python 3",
   "language": "python",
   "name": "python3"
  },
  "language_info": {
   "codemirror_mode": {
    "name": "ipython",
    "version": 3
   },
   "file_extension": ".py",
   "mimetype": "text/x-python",
   "name": "python",
   "nbconvert_exporter": "python",
   "pygments_lexer": "ipython3",
   "version": "3.8.17"
  }
 },
 "nbformat": 4,
 "nbformat_minor": 5
}
