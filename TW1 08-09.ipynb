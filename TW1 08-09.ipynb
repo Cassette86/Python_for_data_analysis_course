{
 "cells": [
  {
   "cell_type": "markdown",
   "id": "2ba28eb3",
   "metadata": {},
   "source": [
    "# TW1 - 08/09/2023\n",
    "## Cassie Doguet DIA 3"
   ]
  },
  {
   "cell_type": "code",
   "execution_count": 1,
   "id": "abbadb4e",
   "metadata": {},
   "outputs": [],
   "source": [
    "import numpy as np"
   ]
  },
  {
   "cell_type": "markdown",
   "id": "aef6b34c",
   "metadata": {},
   "source": [
    "# Exercice 1 "
   ]
  },
  {
   "cell_type": "markdown",
   "id": "57ab63f8",
   "metadata": {},
   "source": [
    "##### Write a program to print a specified list after removing the 0th, 4th and 5th elements.\n",
    "\n",
    " ##### Sample List: ['Red', 'Green', 'White', 'Black', 'Pink', 'Yellow']\n",
    " \n",
    " ##### Expected Output: ['Green', 'White', 'Black']\n"
   ]
  },
  {
   "cell_type": "code",
   "execution_count": 2,
   "id": "01414475",
   "metadata": {},
   "outputs": [
    {
     "name": "stdout",
     "output_type": "stream",
     "text": [
      "['Green' 'White' 'Black']\n"
     ]
    }
   ],
   "source": [
    "l = np.array(['Red', 'Green', 'White', 'Black', 'Pink', 'Yellow'])\n",
    "\n",
    "m = l[1:4]\n",
    "\n",
    "print(m)"
   ]
  },
  {
   "cell_type": "markdown",
   "id": "977cc3f5",
   "metadata": {},
   "source": [
    "##### Write a program to check whether two lists are circularly identical."
   ]
  },
  {
   "cell_type": "code",
   "execution_count": 3,
   "id": "40e09263",
   "metadata": {},
   "outputs": [
    {
     "name": "stdout",
     "output_type": "stream",
     "text": [
      "The lists are circularly identical.\n",
      "The lists are not circularly identical.\n"
     ]
    }
   ],
   "source": [
    "l = np.array([10, 10, 10, 0, 0]) #reference list\n",
    "p = np.array([0, 10, 10, 10, 0]) #circularly identical\n",
    "n = np.array([0, 10, 0, 10, 10]) #not circularly identical\n",
    "\n",
    "def are_circularly_identical(list1, list2):\n",
    "    if len(list1) != len(list2):\n",
    "        return False\n",
    "    \n",
    "    arr1 = list1\n",
    "    arr2 = list2\n",
    "    \n",
    "    for i in range(len(list1)):\n",
    "        if np.array_equal(arr1, arr2):\n",
    "            return True\n",
    "        arr1 = np.roll(arr1, 1)\n",
    "    return False\n",
    "\n",
    "if are_circularly_identical(l, p):\n",
    "    print(\"The lists are circularly identical.\")\n",
    "else:\n",
    "    print(\"The lists are not circularly identical.\")\n",
    "    \n",
    "if are_circularly_identical(l, n):\n",
    "    print(\"The lists are circularly identical.\")\n",
    "else:\n",
    "    print(\"The lists are not circularly identical.\")"
   ]
  },
  {
   "cell_type": "markdown",
   "id": "dfb75fff",
   "metadata": {},
   "source": [
    "##### Giving the following list [33, 56, 4, 80, 23, 100, 1, 0, 40, 11], write a program to extract:\n",
    "\n",
    " ##### the elements from 0 (included) to 7 (excluded),\n",
    " \n",
    " ##### the last element of the list,\n",
    " \n",
    " ##### the last 3 elements of the list"
   ]
  },
  {
   "cell_type": "code",
   "execution_count": 4,
   "id": "5c9a72d2",
   "metadata": {},
   "outputs": [
    {
     "name": "stdout",
     "output_type": "stream",
     "text": [
      "The element from 0 to 7 excluded :  [ 33  56   4  80  23 100   1] \n",
      " The last element of the list :  11 \n",
      " The last 3 element of the list :  [ 0 40 11]\n"
     ]
    }
   ],
   "source": [
    "list1 = np.array([33, 56, 4, 80, 23, 100, 1, 0, 40, 11])\n",
    "\n",
    "print(\"The element from 0 to 7 excluded : \",list1[0:7],\"\\n\",\n",
    "      \"The last element of the list : \",list1[-1],\"\\n\",\n",
    "      \"The last 3 element of the list : \", list1[-3:])\n",
    "    "
   ]
  },
  {
   "cell_type": "markdown",
   "id": "eb7fa654",
   "metadata": {},
   "source": [
    "##### Write a program to get a list, sorted in increasing order by the last element in each tuple from a given list of non-empty tuples.\n",
    "\n",
    " ##### Sample List : [(2, 5), (1, 2), (4, 4), (2, 3), (2, 1)]\n",
    " \n",
    " ##### Expected Result : [(2, 1), (1, 2), (2, 3), (4, 4), (2, 5)]"
   ]
  },
  {
   "cell_type": "code",
   "execution_count": 5,
   "id": "8b8cfdd8",
   "metadata": {},
   "outputs": [
    {
     "name": "stdout",
     "output_type": "stream",
     "text": [
      "[(2, 1), (1, 2), (2, 3), (4, 4), (2, 5)]\n"
     ]
    }
   ],
   "source": [
    "list1 = np.array([(2, 5), (1, 2), (4, 4), (2, 3), (2, 1)])\n",
    "\n",
    "list2 = list1[list1[:, -1].argsort()]\n",
    "list2 = [tuple(row) for row in list2]\n",
    "print(list2)\n"
   ]
  },
  {
   "cell_type": "markdown",
   "id": "dd4b8261",
   "metadata": {},
   "source": [
    "# Exercice 2 : "
   ]
  },
  {
   "cell_type": "markdown",
   "id": "4f3be5f7",
   "metadata": {},
   "source": [
    "#### Write a program to square and cube every number in a given list of integers using Lambda.\n",
    "\n",
    " #### Original list of integers:\n",
    " [1, 2, 3, 4, 5, 6, 7, 8, 9, 10]\n",
    " \n",
    " #### Square every number of the said list:\n",
    " [1, 4, 9, 16, 25, 36, 49, 64, 81, 100]\n",
    " \n",
    " #### Cube every number of the said list:\n",
    " [1, 8, 27, 64, 125, 216, 343, 512, 729, 1000]"
   ]
  },
  {
   "cell_type": "code",
   "execution_count": 6,
   "id": "63a67219",
   "metadata": {},
   "outputs": [
    {
     "name": "stdout",
     "output_type": "stream",
     "text": [
      "[1, 4, 9, 16, 25, 36, 49, 64, 81, 100]\n",
      "[1, 8, 27, 64, 125, 216, 343, 512, 729, 1000]\n"
     ]
    }
   ],
   "source": [
    "list1 = [1, 2, 3, 4, 5, 6, 7, 8, 9, 10]\n",
    "\n",
    "squared = list(map(lambda x: x**2, list1))\n",
    "print(squared)\n",
    "cubed = list(map(lambda x: x**3, list1))\n",
    "print(cubed)"
   ]
  },
  {
   "cell_type": "markdown",
   "id": "7c3602a3",
   "metadata": {},
   "source": [
    "# Exercice 3 : Dictionnaries "
   ]
  },
  {
   "cell_type": "markdown",
   "id": "d468ccba",
   "metadata": {},
   "source": [
    "### Un dictionnaire a une structure clé-valeur : chaque élément dans le dictionnaire est une paure clé-valeur. La clé est utilisée pour accéder à la valeur associée. Elles doivent être uniques"
   ]
  },
  {
   "cell_type": "markdown",
   "id": "e9f1538c",
   "metadata": {},
   "source": [
    "#### Write a script to check whether a given key already exists in a dictionary."
   ]
  },
  {
   "cell_type": "code",
   "execution_count": 7,
   "id": "d2ed1115",
   "metadata": {},
   "outputs": [
    {
     "name": "stdout",
     "output_type": "stream",
     "text": [
      "The key 'b' exists in the dictionary.\n"
     ]
    }
   ],
   "source": [
    "my_dict = {'a': 1, 'b': 2, 'c': 3}\n",
    "key_to_check = 'b'\n",
    "if key_to_check in my_dict:\n",
    "    print(f\"The key '{key_to_check}' exists in the dictionary.\")\n",
    "else:\n",
    "    print(f\"The key '{key_to_check}' does not exist in the dictionary.\")"
   ]
  },
  {
   "cell_type": "markdown",
   "id": "82c79056",
   "metadata": {},
   "source": [
    "#### Write a program to iterate over dictionaries using for loops"
   ]
  },
  {
   "cell_type": "code",
   "execution_count": 8,
   "id": "2aea9598",
   "metadata": {},
   "outputs": [
    {
     "name": "stdout",
     "output_type": "stream",
     "text": [
      "name : Cassie\n",
      "age : 21\n",
      "majeur : DIA\n"
     ]
    }
   ],
   "source": [
    "dictionarry = {\"name\": \"Cassie\", \"age\": 21, \"majeur\": \"DIA\"}\n",
    "\n",
    "dict_items = np.array(list(dictionarry.items()))\n",
    "\n",
    "for i in dict_items:\n",
    "    key, value = i\n",
    "    print(f'{key} : {value}')"
   ]
  },
  {
   "cell_type": "markdown",
   "id": "6f8b9d12",
   "metadata": {},
   "source": [
    "#### Write a script to generate and print a dictionary that contains a number (between 1 and n) in the form (x, x*x).\n",
    " #### Sample Dictionary: (n = 5)\n",
    " #### Expected Output: {1: 1, 2: 4, 3: 9, 4: 16, 5: 25}"
   ]
  },
  {
   "cell_type": "code",
   "execution_count": 9,
   "id": "0b109d5e",
   "metadata": {},
   "outputs": [
    {
     "name": "stdout",
     "output_type": "stream",
     "text": [
      "(1, 1)\n",
      "(2, 4)\n",
      "(3, 9)\n",
      "(4, 16)\n",
      "(5, 25)\n"
     ]
    }
   ],
   "source": [
    "def print_a_dict(dict_items):\n",
    "    for key, value in dict_items.items():\n",
    "        print(f\"({key}, {value})\")\n",
    "\n",
    "def generate_squared_dict(n):\n",
    "    squared_dict = {}\n",
    "    for x in range(1, n + 1):\n",
    "        squared_dict[x] = x * x\n",
    "    return squared_dict\n",
    "\n",
    "n = 5\n",
    "\n",
    "squared_dict = generate_squared_dict(n)\n",
    "\n",
    "print_a_dict(squared_dict)"
   ]
  },
  {
   "cell_type": "markdown",
   "id": "3f719b01",
   "metadata": {},
   "source": [
    "#### Write a program to map two lists into a dictionary."
   ]
  },
  {
   "cell_type": "code",
   "execution_count": 10,
   "id": "d8afac82",
   "metadata": {},
   "outputs": [
    {
     "name": "stdout",
     "output_type": "stream",
     "text": [
      "{1: 'a', 2: 'b', 3: 'c'}\n"
     ]
    }
   ],
   "source": [
    "keys = np.array([1, 2, 3])\n",
    "values = np.array([\"a\", \"b\", \"c\"])\n",
    "\n",
    "result = {}\n",
    "for i in range(len(keys)):\n",
    "    result[keys[i]] = values[i]\n",
    "\n",
    "print(result)"
   ]
  },
  {
   "cell_type": "markdown",
   "id": "a7dbdce4",
   "metadata": {},
   "source": [
    "# Exercice 4 : "
   ]
  },
  {
   "cell_type": "markdown",
   "id": "817a1f03",
   "metadata": {},
   "source": [
    "#### Write a program to compute element-wise sum of given tuples.\n",
    " #### Original lists: (1, 2, 3, 4) (3, 5, 2, 1) (2, 2, 3, 1)\n",
    " #### Element-wise sum of the said tuples: (6, 9, 8, 6)"
   ]
  },
  {
   "cell_type": "code",
   "execution_count": 11,
   "id": "6aca97a0",
   "metadata": {},
   "outputs": [
    {
     "name": "stdout",
     "output_type": "stream",
     "text": [
      "[6 9 8 6]\n"
     ]
    }
   ],
   "source": [
    "list1 = np.array([1, 2, 3, 4])\n",
    "list2 = np.array([3, 5, 2, 1])\n",
    "list3 = np.array([2, 2, 3, 1])\n",
    "\n",
    "list4 = list1+list2+list3\n",
    "print(list4)"
   ]
  },
  {
   "cell_type": "markdown",
   "id": "d2e28e55",
   "metadata": {},
   "source": [
    "#### Write a Python program to convert a tuple to a dictionary"
   ]
  },
  {
   "cell_type": "code",
   "execution_count": 12,
   "id": "d6d92472",
   "metadata": {},
   "outputs": [
    {
     "name": "stdout",
     "output_type": "stream",
     "text": [
      "Converted Dictionary:\n",
      "{'a': 1, 'b': 2, 'c': 3}\n"
     ]
    }
   ],
   "source": [
    "my_tuple = ((\"a\", 1), (\"b\", 2), (\"c\", 3))\n",
    "\n",
    "my_dict = {}\n",
    "for key, value in my_tuple:\n",
    "    my_dict[key] = value\n",
    "\n",
    "print(\"Converted Dictionary:\")\n",
    "print(my_dict)"
   ]
  },
  {
   "cell_type": "markdown",
   "id": "6b9ff34e",
   "metadata": {},
   "source": [
    "# Exercice 5"
   ]
  },
  {
   "cell_type": "markdown",
   "id": "4275afe5",
   "metadata": {},
   "source": [
    "#### Write a Python program to get the current time.\n",
    " #### Sample Format: 13:19:49.078205\n"
   ]
  },
  {
   "cell_type": "code",
   "execution_count": 13,
   "id": "f07ce83a",
   "metadata": {},
   "outputs": [
    {
     "name": "stdout",
     "output_type": "stream",
     "text": [
      "18 : 16 : 27 : 942207\n"
     ]
    }
   ],
   "source": [
    "from datetime import datetime\n",
    "now = datetime.now()\n",
    "print(now.hour,':',now.minute,':',now.second,':',now.microsecond)"
   ]
  },
  {
   "cell_type": "markdown",
   "id": "5b06d0fd",
   "metadata": {},
   "source": [
    "#### Write a Python program to subtract five days from current date.\n",
    " #### Sample Date:\n",
    " #### Current Date: 2015-06-22\n",
    " #### 5 days before Current Date : 2015-06-1"
   ]
  },
  {
   "cell_type": "code",
   "execution_count": 14,
   "id": "9231f9d7",
   "metadata": {},
   "outputs": [
    {
     "name": "stdout",
     "output_type": "stream",
     "text": [
      "2023-09-05 18:16:27.961902\n"
     ]
    }
   ],
   "source": [
    "import datetime \n",
    "tod = datetime.datetime.now()\n",
    "d = datetime.timedelta(days = 5)\n",
    "a = tod - d\n",
    "print(a)"
   ]
  },
  {
   "cell_type": "markdown",
   "id": "63765f2d",
   "metadata": {},
   "source": [
    "#### Write a Python program to print yesterday, today, tomorrow"
   ]
  },
  {
   "cell_type": "code",
   "execution_count": 15,
   "id": "4a032694",
   "metadata": {},
   "outputs": [
    {
     "name": "stdout",
     "output_type": "stream",
     "text": [
      "Yesterday : '2023-09-09 18:16:27.976857'\n",
      "Today : '2023-09-10 18:16:27.976857'\n",
      "Tomorrow : '2023-09-11 18:16:27.976857'\n"
     ]
    }
   ],
   "source": [
    "tod = datetime.datetime.now()\n",
    "yesterday = datetime.timedelta(days = 1)\n",
    "yesterday = tod-yesterday\n",
    "tomorrow = datetime.timedelta(days = -1)\n",
    "tomorrow = tod-tomorrow\n",
    "\n",
    "print(f\"Yesterday : '{yesterday}'\\nToday : '{tod}'\\nTomorrow : '{tomorrow}'\")"
   ]
  },
  {
   "cell_type": "markdown",
   "id": "65546513",
   "metadata": {},
   "source": [
    "#### Write a Python program to get week number.\n",
    "#### Sample Date : 2015, 6, 16\n",
    "#### Expected Output : 25"
   ]
  },
  {
   "cell_type": "code",
   "execution_count": 16,
   "id": "c3c4a979",
   "metadata": {},
   "outputs": [
    {
     "data": {
      "text/plain": [
       "36"
      ]
     },
     "execution_count": 16,
     "metadata": {},
     "output_type": "execute_result"
    }
   ],
   "source": [
    "tod.isocalendar()[1]"
   ]
  },
  {
   "cell_type": "markdown",
   "id": "503643f2",
   "metadata": {},
   "source": [
    "#### Write a Python program to calculate a number of days between two dates"
   ]
  },
  {
   "cell_type": "code",
   "execution_count": 17,
   "id": "cd04d2d1",
   "metadata": {},
   "outputs": [
    {
     "name": "stdout",
     "output_type": "stream",
     "text": [
      "215 days, 0:00:00\n"
     ]
    }
   ],
   "source": [
    "date1 = datetime.date(2024,4,10)\n",
    "tod = datetime.date(2023,9,8)\n",
    "print(date1-tod)"
   ]
  },
  {
   "cell_type": "markdown",
   "id": "2b1b76a6",
   "metadata": {},
   "source": [
    "# Exercice 6 : "
   ]
  },
  {
   "cell_type": "markdown",
   "id": "55e57a43",
   "metadata": {},
   "source": [
    "#### Write a Python program to count the number of lines in a text file"
   ]
  },
  {
   "cell_type": "code",
   "execution_count": 18,
   "id": "76efcfa0",
   "metadata": {},
   "outputs": [
    {
     "name": "stdout",
     "output_type": "stream",
     "text": [
      "5\n"
     ]
    }
   ],
   "source": [
    "with open(\"exercice6.txt\", \"r\") as fichier:\n",
    "        lignes = fichier.readlines()\n",
    "        \n",
    "print(len(lignes))"
   ]
  },
  {
   "cell_type": "markdown",
   "id": "f42626f2",
   "metadata": {},
   "source": [
    "#### Write a Python program to assess if a file is closed or not"
   ]
  },
  {
   "cell_type": "code",
   "execution_count": 19,
   "id": "d722666e",
   "metadata": {},
   "outputs": [
    {
     "name": "stdout",
     "output_type": "stream",
     "text": [
      "The file is open.\n",
      "The file is closed.\n"
     ]
    }
   ],
   "source": [
    "try :\n",
    "    file = open(\"exercice6.txt\", \"r\")\n",
    "    \n",
    "    if file.closed:\n",
    "        print(\"The file is closed.\")\n",
    "    else:\n",
    "        print(\"The file is open.\")\n",
    "\n",
    "    file.close()\n",
    "\n",
    "    if file.closed:\n",
    "        print(\"The file is closed.\")\n",
    "    else:\n",
    "        print(\"The file is still open.\")\n",
    "    \n",
    "except FileNotFoundError:\n",
    "    print(f\"File not found: {file_path}\")\n",
    "except Exception as e:\n",
    "    print(f\"An error occurred: {e}\")"
   ]
  },
  {
   "cell_type": "markdown",
   "id": "1a8f8bd9",
   "metadata": {},
   "source": [
    "#### Write a Python program to append text to a file and display the text"
   ]
  },
  {
   "cell_type": "code",
   "execution_count": 20,
   "id": "29d01e97",
   "metadata": {},
   "outputs": [
    {
     "name": "stdout",
     "output_type": "stream",
     "text": [
      "Line 1\n",
      "line 2\n",
      "line 3\n",
      "line 4\n",
      "line 5\n",
      "line 6\n"
     ]
    }
   ],
   "source": [
    "with open(\"exercice6.txt\",'a') as file : \n",
    "    text = \"\\nline 6\"\n",
    "    file.write(text)\n",
    "    \n",
    "with open(\"exercice6.txt\",'r') as file : \n",
    "    print(file.read())"
   ]
  },
  {
   "cell_type": "markdown",
   "id": "841ad833",
   "metadata": {},
   "source": [
    "#### Write a Python program to count the frequency of words in a file."
   ]
  },
  {
   "cell_type": "code",
   "execution_count": 21,
   "id": "919d03d6",
   "metadata": {},
   "outputs": [
    {
     "name": "stdout",
     "output_type": "stream",
     "text": [
      "(line, 6)\n",
      "(1, 1)\n",
      "(2, 1)\n",
      "(3, 1)\n",
      "(4, 1)\n",
      "(5, 1)\n",
      "(6, 1)\n"
     ]
    }
   ],
   "source": [
    "import string\n",
    "\n",
    "with open(\"exercice6.txt\",'r') as file : \n",
    "    lines = file.read()\n",
    "\n",
    "words_joined = ''.join(lines)\n",
    "words = words_joined.lower().split()\n",
    "\n",
    "word_freq = {}\n",
    "\n",
    "for word in words : \n",
    "    if word in word_freq : \n",
    "        word_freq[word] += 1\n",
    "    else : \n",
    "        word_freq[word] = 1\n",
    "\n",
    "print_a_dict(word_freq)"
   ]
  }
 ],
 "metadata": {
  "kernelspec": {
   "display_name": "Python 3 (ipykernel)",
   "language": "python",
   "name": "python3"
  },
  "language_info": {
   "codemirror_mode": {
    "name": "ipython",
    "version": 3
   },
   "file_extension": ".py",
   "mimetype": "text/x-python",
   "name": "python",
   "nbconvert_exporter": "python",
   "pygments_lexer": "ipython3",
   "version": "3.8.17"
  }
 },
 "nbformat": 4,
 "nbformat_minor": 5
}
